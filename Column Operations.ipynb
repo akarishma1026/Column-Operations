{
 "cells": [
  {
   "cell_type": "code",
   "execution_count": null,
   "id": "d972c399",
   "metadata": {},
   "outputs": [],
   "source": [
    "import pandas as pd"
   ]
  },
  {
   "cell_type": "code",
   "execution_count": null,
   "id": "c9489532",
   "metadata": {},
   "outputs": [],
   "source": [
    "market=pd.read_csv(\"C:/Users/akari/Downloads/market_fact.csv\")"
   ]
  },
  {
   "cell_type": "code",
   "execution_count": null,
   "id": "91c51ce5",
   "metadata": {},
   "outputs": [],
   "source": [
    "market"
   ]
  },
  {
   "cell_type": "markdown",
   "id": "5ac0980f",
   "metadata": {},
   "source": [
    "#### Derived Variable is a new variable created from the dataframe"
   ]
  },
  {
   "cell_type": "code",
   "execution_count": null,
   "id": "29061f88",
   "metadata": {},
   "outputs": [],
   "source": [
    "#Adding new column\n",
    "\n",
    "market['Orignal_Price']=market['Sales']+market['Discount']"
   ]
  },
  {
   "cell_type": "code",
   "execution_count": null,
   "id": "f35b0adc",
   "metadata": {},
   "outputs": [],
   "source": [
    "market"
   ]
  },
  {
   "cell_type": "code",
   "execution_count": null,
   "id": "e7c54a26",
   "metadata": {},
   "outputs": [],
   "source": [
    "market['unit']=market['Sales']*market['Order_Quantity']"
   ]
  },
  {
   "cell_type": "code",
   "execution_count": null,
   "id": "940f25ed",
   "metadata": {},
   "outputs": [],
   "source": [
    "market"
   ]
  },
  {
   "cell_type": "code",
   "execution_count": null,
   "id": "5bba061f",
   "metadata": {},
   "outputs": [],
   "source": [
    "#Rename column\n",
    "\n",
    "market.rename(columns={'Sales':'Sales_Amount'})"
   ]
  },
  {
   "cell_type": "code",
   "execution_count": null,
   "id": "fc3a0a21",
   "metadata": {},
   "outputs": [],
   "source": [
    "market.rename(columns={'Prod_id':'Product_Id', 'Ship_id':'Shipment_Id'})"
   ]
  },
  {
   "cell_type": "code",
   "execution_count": null,
   "id": "8d9bf15f",
   "metadata": {},
   "outputs": [],
   "source": [
    "#To remove column\n",
    "market.drop(['unit','Discount','Product_Base_Margin'],axis=1)"
   ]
  },
  {
   "cell_type": "code",
   "execution_count": null,
   "id": "00741f48",
   "metadata": {},
   "outputs": [],
   "source": [
    "market.columns=[col.upper() for col in market.columns]"
   ]
  },
  {
   "cell_type": "code",
   "execution_count": null,
   "id": "f1bb51f1",
   "metadata": {},
   "outputs": [],
   "source": [
    "market"
   ]
  },
  {
   "cell_type": "code",
   "execution_count": null,
   "id": "17293829",
   "metadata": {},
   "outputs": [],
   "source": [
    "market.columns=[col.lower() for col in market.columns]"
   ]
  },
  {
   "cell_type": "code",
   "execution_count": null,
   "id": "43751646",
   "metadata": {},
   "outputs": [],
   "source": [
    "market"
   ]
  },
  {
   "cell_type": "code",
   "execution_count": null,
   "id": "7ce967c5",
   "metadata": {},
   "outputs": [],
   "source": [
    "#Sorting\n",
    "market.sort_values(['cust_id'])"
   ]
  },
  {
   "cell_type": "code",
   "execution_count": null,
   "id": "5a04a259",
   "metadata": {},
   "outputs": [],
   "source": [
    "market.sort_values(by='ship_id',ascending=False)"
   ]
  },
  {
   "cell_type": "code",
   "execution_count": null,
   "id": "3daceffe",
   "metadata": {},
   "outputs": [],
   "source": [
    "#multiple column sorting. best is to sort only one column\n",
    "\n",
    "market.sort_values(by=['profit','sales'],ascending=[True,False])"
   ]
  },
  {
   "cell_type": "code",
   "execution_count": null,
   "id": "33a46636",
   "metadata": {},
   "outputs": [],
   "source": [
    "#axis=1 : column, axis=0 : row\n",
    "\n",
    "market.drop(['unit','discount','product_base_margin'],axis=1,inplace=True)"
   ]
  },
  {
   "cell_type": "code",
   "execution_count": null,
   "id": "30c9e599",
   "metadata": {},
   "outputs": [],
   "source": [
    "market"
   ]
  },
  {
   "cell_type": "code",
   "execution_count": null,
   "id": "99fd6410",
   "metadata": {},
   "outputs": [],
   "source": [
    "market.groupby('cust_id').count()"
   ]
  },
  {
   "cell_type": "code",
   "execution_count": null,
   "id": "18316df3",
   "metadata": {},
   "outputs": [],
   "source": [
    "print(market['ord_id'].isnull().sum())"
   ]
  },
  {
   "cell_type": "code",
   "execution_count": null,
   "id": "2d8abcd9",
   "metadata": {},
   "outputs": [],
   "source": [
    "len(market.columns.values)"
   ]
  },
  {
   "cell_type": "code",
   "execution_count": null,
   "id": "df5a7c42",
   "metadata": {},
   "outputs": [],
   "source": [
    "print(market.columns)"
   ]
  },
  {
   "cell_type": "code",
   "execution_count": null,
   "id": "3f0e71f0",
   "metadata": {},
   "outputs": [],
   "source": []
  }
 ],
 "metadata": {
  "kernelspec": {
   "display_name": "Python 3 (ipykernel)",
   "language": "python",
   "name": "python3"
  },
  "language_info": {
   "codemirror_mode": {
    "name": "ipython",
    "version": 3
   },
   "file_extension": ".py",
   "mimetype": "text/x-python",
   "name": "python",
   "nbconvert_exporter": "python",
   "pygments_lexer": "ipython3",
   "version": "3.9.13"
  }
 },
 "nbformat": 4,
 "nbformat_minor": 5
}
